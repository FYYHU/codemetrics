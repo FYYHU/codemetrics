{
 "cells": [
  {
   "cell_type": "code",
   "execution_count": 4,
   "metadata": {},
   "outputs": [
    {
     "name": "stdout",
     "output_type": "stream",
     "text": [
      "                           fingerprint  duplicate_lines  \\\n",
      "0     f6de6100b7f64f3daaf981fff928ca78                6   \n",
      "1     f6de6100b7f64f3daaf981fff928ca78                6   \n",
      "2     c8b165a9b79d37bbf819917f1bc9aa44                6   \n",
      "3     c8b165a9b79d37bbf819917f1bc9aa44                6   \n",
      "4     348ba8a4deab41470301b3159dbd8ad0                6   \n",
      "...                                ...              ...   \n",
      "8465  b8487164706788218a8e2471a9a7b0bc              183   \n",
      "8466  749b38b529a475a032d689f8eb9e3bc5              187   \n",
      "8467  749b38b529a475a032d689f8eb9e3bc5              187   \n",
      "8468  6762c3b077114eb2401a2a38521c94f4              377   \n",
      "8469  6762c3b077114eb2401a2a38521c94f4              377   \n",
      "\n",
      "                                              file_path  start_line  end_line  \n",
      "0     Rubberduck/Rubberduck.Parsing/Symbols/Property...          36        41  \n",
      "1     Rubberduck/Rubberduck.Parsing/Symbols/ModuleBo...          37        42  \n",
      "2     Rubberduck/Rubberduck.CodeAnalysis/QuickFixes/...          74        80  \n",
      "3     Rubberduck/Rubberduck.CodeAnalysis/QuickFixes/...          13        19  \n",
      "4     Rubberduck/RubberduckTests/Inspections/Integer...         109       117  \n",
      "...                                                 ...         ...       ...  \n",
      "8465  Rubberduck/RubberduckTests/Grammar/ResolverTes...        5854      6049  \n",
      "8466  Rubberduck/RubberduckTests/VBEditor/Variants/V...           9       222  \n",
      "8467  Rubberduck/RubberduckTests/ComMock/VariantConv...           9       218  \n",
      "8468  Rubberduck/Rubberduck.Resources/Inspections/In...          43      1166  \n",
      "8469  Rubberduck/Rubberduck.Resources/Inspections/In...          43      1167  \n",
      "\n",
      "[8470 rows x 5 columns]\n"
     ]
    }
   ],
   "source": [
    "import pandas as pd\n",
    "import re\n",
    "\n",
    "# Read the Simian output file\n",
    "file_path = \"duplication.txt\"  # Replace with the actual file path\n",
    "with open(file_path, \"r\") as file:\n",
    "    lines = file.readlines()\n",
    "\n",
    "# Data storage\n",
    "data = []\n",
    "current_fingerprint = None\n",
    "current_duplicate_lines = None\n",
    "\n",
    "# Parse the file\n",
    "for line in lines:\n",
    "    fingerprint_match = re.search(r\"Found (\\d+) duplicate lines with fingerprint (\\w+)\", line)\n",
    "    file_match = re.search(r\"Between lines (\\d+) and (\\d+) in (.+)\", line)\n",
    "\n",
    "    if fingerprint_match:\n",
    "        current_duplicate_lines = int(fingerprint_match.group(1))\n",
    "        current_fingerprint = fingerprint_match.group(2)\n",
    "\n",
    "    elif file_match and current_fingerprint:\n",
    "        start_line = int(file_match.group(1))\n",
    "        end_line = int(file_match.group(2))\n",
    "        full_file_path = file_match.group(3).strip()\n",
    "\n",
    "        # Extract only the project-relative path (from 'Rubberduck' onwards)\n",
    "        project_path_match = re.search(r\"(Rubberduck/.+)\", full_file_path)\n",
    "        project_path = project_path_match.group(1) if project_path_match else full_file_path\n",
    "\n",
    "        # Store extracted data\n",
    "        data.append([current_fingerprint, current_duplicate_lines, project_path, start_line, end_line])\n",
    "\n",
    "# Create DataFrame\n",
    "df = pd.DataFrame(data, columns=[\"fingerprint\", \"duplicate_lines\", \"file_path\", \"start_line\", \"end_line\"])\n",
    "\n",
    "# Save to CSV or display\n",
    "df.to_csv(\"simian_duplicates.csv\", index=False)\n",
    "print(df)\n",
    "\n"
   ]
  }
 ],
 "metadata": {
  "kernelspec": {
   "display_name": "ml",
   "language": "python",
   "name": "python3"
  },
  "language_info": {
   "codemirror_mode": {
    "name": "ipython",
    "version": 3
   },
   "file_extension": ".py",
   "mimetype": "text/x-python",
   "name": "python",
   "nbconvert_exporter": "python",
   "pygments_lexer": "ipython3",
   "version": "3.10.0"
  }
 },
 "nbformat": 4,
 "nbformat_minor": 2
}
